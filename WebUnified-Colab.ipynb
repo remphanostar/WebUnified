# %% [code]
# @title
# In[ ]:
# # 🚀 Unified Multi-WebUI Stable Diffusion Launcher
#
# ## Complete Multi-Environment Management System
#
# This notebook provides a comprehensive solution for managing multiple Stable Diffusion WebUIs with:
# - **Zero dependency conflicts** through isolated virtual environments
# - **Centralized asset management** to eliminate storage duplication
# - **Advanced Gradio interface** for easy management
# - **Production-ready features** with comprehensive error handling
#
# ### 🎯 Supported Tools
# - **AUTOMATIC1111** - The original and most stable
# - **SD.Next** - Modern features and optimizations
# - **Forge WebUI** - Performance optimized with memory management
# - **InvokeAI** - Professional node-based workflows
# - **Fooocus** - Simplified Midjourney-style interface
# - **FaceFusion** - Advanced face processing
# - **ROOP-FLOYD** - Face swapping tools
#
# ---


# In[ ]:
# Import required libraries
import os
import sys
import subprocess
import json
import time
import threading
import queue
import psutil
from pathlib import Path
from datetime import datetime
from typing import Dict, List, Optional, Any

# Gradio and UI imports
import gradio as gr
from IPython.display import display, HTML, clear_output
import ipywidgets as widgets

# Import our enhanced manager
try:
    from manage_venvs import EnhancedMultiVenvManager
except ImportError:
    print("❌ manage_venvs.py not found. Please ensure all files are in the same directory.")
    sys.exit(1)

print("✅ All imports successful")


# In[ ]:
# ## 🔧 System Configuration and Initialization


# In[ ]:
# Configuration
CONFIG_FILE = "config.json"
WORKSPACE_DIR = "/workspace"
MODELS_DIR = "/data/models"

# Create default config if it doesn't exist
if not os.path.exists(CONFIG_FILE):
    print("⚠️ Config file not found. Creating default configuration...")

    # Default configuration (using the complete config from above)
    default_config = {
        "workspace_settings": {
            "workspace_dir": WORKSPACE_DIR,
            "models_dir": MODELS_DIR,
            "log_level": "INFO",
            "auto_create_dirs": True,
            "max_log_lines": 1000
        },
        "tools": {
            "automatic1111": {
                "name": "AUTOMATIC1111",
                "dir": "automatic1111",
                "repo": "https://github.com/AUTOMATIC1111/stable-diffusion-webui.git",
                "script": "launch.py",
                "python_version": "3.10.6",
                "venv_name": "a1111_venv",
                "install_cmd": "{pip} install -r requirements_versions.txt",
                "default_args": ["--share", "--xformers", "--no-half-vae", "--medvram"],
                "centralization_method": "cli_args",
                "centralization_args": [
                    "--ckpt-dir", "{models_dir}/Stable-diffusion",
                    "--vae-dir", "{models_dir}/VAE",
                    "--lora-dir", "{models_dir}/Lora",
                    "--embeddings-dir", "{models_dir}/embeddings"
                ],
                "description": "The foundational WebUI for Stable Diffusion",
                "port": 7862,
                "status": "stopped",
                "risk_level": "low",
                "icon": "🎨",
                "category": "stable_diffusion"
            },
            "sdnext": {
                "name": "SD.Next",
                "dir": "sdnext",
                "repo": "https://github.com/vladmandic/automatic.git",
                "script": "launch.py",
                "python_version": "3.11",
                "venv_name": "sdnext_venv",
                "install_cmd": "{pip} install -r requirements.txt",
                "default_args": ["--use-xformers", "--backend", "diffusers", "--medvram", "--share"],
                "centralization_method": "cli_args",
                "centralization_args": ["--models-dir", "{models_dir}"],
                "description": "Next-generation interface with cutting-edge features",
                "port": 7860,
                "status": "stopped",
                "risk_level": "low",
                "icon": "🚀",
                "category": "stable_diffusion"
            }
            # Add other tools as needed
        },
        "hardware_profiles": {
            "high_vram": {
                "name": "High VRAM (16GB+)",
                "description": "For RTX 3090/4090, A100, etc.",
                "args": ["--always-high-vram", "--no-lowvram"],
                "icon": "🚀"
            },
            "medium_vram": {
                "name": "Medium VRAM (8-16GB)",
                "description": "For RTX 3070/4070, RTX 3080, etc.",
                "args": ["--medvram"],
                "icon": "⚡"
            },
            "low_vram": {
                "name": "Low VRAM (<8GB)",
                "description": "For RTX 3060, GTX 1080, etc.",
                "args": ["--lowvram", "--opt-channelslast"],
                "icon": "💾"
            }
        }
    }

    with open(CONFIG_FILE, 'w') as f:
        json.dump(default_config, f, indent=2)

    print("✅ Default configuration created")

# Initialize the enhanced manager
try:
    manager = EnhancedMultiVenvManager(CONFIG_FILE)
    print(f"✅ Manager initialized")
    print(f"📁 Workspace: {manager.workspace_dir}")
    print(f"🎨 Models: {manager.models_dir}")
    print(f"🛠️ Tools: {len(manager.config['tools'])}")
except Exception as e:
    print(f"❌ Failed to initialize manager: {e}")
    sys.exit(1)


# In[ ]:
# ## 🎨 Advanced CSS Styling
#
# Modern dark theme with animations and responsive design


# In[ ]:
# Advanced CSS for the Gradio interface
advanced_css = """
:root {
    --primary-color: #4a9eff;
    --success-color: #10b981;
    --warning-color: #f59e0b;
    --error-color: #ef4444;
    --bg-primary: #0f172a;
    --bg-secondary: #1e293b;
    --bg-tertiary: #334155;
    --text-primary: #f1f5f9;
    --text-secondary: #94a3b8;
    --border-color: #475569;
}

.gradio-container {
    background: var(--bg-primary) !important;
    color: var(--text-primary) !important;
    font-family: -apple-system, BlinkMacSystemFont, 'Segoe UI', Roboto, sans-serif;
}

.tool-card {
    background: linear-gradient(135deg, var(--bg-secondary), var(--bg-tertiary));
    border: 1px solid var(--border-color);
    border-radius: 12px;
    padding: 1.5rem;
    margin-bottom: 1rem;
    box-shadow: 0 4px 6px -1px rgba(0, 0, 0, 0.1);
    transition: all 0.3s ease;
    position: relative;
    overflow: hidden;
}

.tool-card::before {
    content: '';
    position: absolute;
    top: 0;
    left: 0;
    width: 100%;
    height: 3px;
    background: linear-gradient(90deg, var(--primary-color), #764ba2);
    transform: translateX(-100%);
    transition: transform 0.3s ease;
}

.tool-card:hover::before {
    transform: translateX(0);
}

.tool-card:hover {
    transform: translateY(-2px);
    box-shadow: 0 10px 16px -4px rgba(0, 0, 0, 0.1);
    border-color: var(--primary-color);
}

.status-dot {
    height: 12px;
    width: 12px;
    border-radius: 50%;
    display: inline-block;
    margin-right: 8px;
    transition: all 0.3s ease;
}

.status-running {
    background-color: var(--success-color);
    box-shadow: 0 0 8px var(--success-color);
    animation: pulse-success 2s infinite;
}

.status-stopped {
    background-color: var(--error-color);
    box-shadow: 0 0 4px var(--error-color);
}

.status-starting {
    background-color: var(--warning-color);
    box-shadow: 0 0 6px var(--warning-color);
    animation: pulse-warning 1.5s infinite;
}

@keyframes pulse-success {
    0% { box-shadow: 0 0 0 0 rgba(16, 185, 129, 0.7); }
    70% { box-shadow: 0 0 0 10px rgba(16, 185, 129, 0); }
    100% { box-shadow: 0 0 0 0 rgba(16, 185, 129, 0); }
}

@keyframes pulse-warning {
    0% { box-shadow: 0 0 0 0 rgba(245, 158, 11, 0.7); }
    70% { box-shadow: 0 0 0 8px rgba(245, 158, 11, 0); }
    100% { box-shadow: 0 0 0 0 rgba(245, 158, 11, 0); }
}

.global-settings {
    background: linear-gradient(135deg, #667eea 0%, #764ba2 100%);
    color: white;
    border-radius: 12px;
    padding: 2rem;
    margin-bottom: 2rem;
    box-shadow: 0 8px 16px rgba(0, 0, 0, 0.2);
}

.metric-card {
    background: var(--bg-secondary);
    border-radius: 8px;
    padding: 1rem;
    text-align: center;
    border: 1px solid var(--border-color);
}

.metric-value {
    font-size: 2rem;
    font-weight: bold;
    color: var(--primary-color);
}

.metric-label {
    color: var(--text-secondary);
    font-size: 0.875rem;
    margin-top: 0.25rem;
}

.risk-low { border-left: 4px solid var(--success-color); }
.risk-medium { border-left: 4pt solid var(--warning-color); }
.risk-high { border-left: 4pt solid var(--error-color); }

.log-viewer {
    background: var(--bg-primary);
    border: 1px solid var(--border-color);
    border-radius: 6px;
    font-family: 'Monaco', 'Menlo', 'Consolas', monospace;
    max-height: 300px;
    overflow-y: auto;
    font-size: 0.875rem;
    line-height: 1.4;
}
"""

print("✅ CSS styling loaded")


# In[ ]:
# ## 🚀 Advanced Process Management
#
# Real-time process monitoring with log streaming and status tracking


# In[ ]:
class ProcessTracker:
    """Enhanced process tracking with UI updates"""

    def __init__(self, manager):
        self.manager = manager
        self.status_cache = {}
        self.log_cache = {}

    def get_status_summary(self):
        """Get overall system status"""
        running_count = 0
        total_count = len(self.manager.config['tools'])

        for tool_id in self.manager.config['tools'].keys():
            status = self.manager.get_process_status(tool_id)
            if status.get('status') == 'running':
                running_count += 1

        return {
            'running': running_count,
            'total': total_count,
            'stopped': total_count - running_count
        }

    def get_tool_status_html(self, tool_id):
        """Generate HTML for tool status"""
        tool_config = self.manager.config['tools'][tool_id]
        status = self.manager.get_process_status(tool_id)
        current_status = status.get('status', 'stopped')

        status_class = f"status-{current_status}"

        html = f"""
        <div class="tool-card risk-{tool_config['risk_level']}">
            <div style="display: flex; justify-content: space-between; align-items: center;">
                <h3>{tool_config['icon']} {tool_config['name']}</h3>
                <span class="status-dot {status_class}" id="status-{tool_id}"></span>
            </div>
            <p>{tool_config['description']}</p>
            <div style="margin-top: 0.5rem; color: var(--text-secondary);">
                <span>Status: <strong>{current_status.title()}</strong></span>
                <span style="margin-left: 1rem;">Port: {tool_config['port']}</span>
                <span style="margin-left: 1rem;">Risk: {tool_config['risk_level'].title()}</span>
            </div>
        </div>
        """

        return html

    def update_logs(self, tool_id):
        """Get updated logs for a tool"""
        logs = self.manager.get_logs(tool_id, max_lines=50)
        if logs:
            return '\n'.join(logs)
        return "No logs available"

# Initialize process tracker
process_tracker = ProcessTracker(manager)
print("✅ Process tracker initialized")


# In[ ]:
# ## 🎛️ Advanced Gradio Interface
#
# Complete dashboard with all features from design iterations 1-10


# In[ ]:
def create_advanced_interface():
    """Create the complete advanced Gradio interface"""

    with gr.Blocks(css=advanced_css, title="Unified WebUI Launcher", theme=gr.themes.Base()) as demo:

        # Global state management
        process_states = gr.State({})
        refresh_counter = gr.State(0)

        # Header section
        gr.HTML("""
        <div class="global-settings">
            <h1>🚀 Unified Multi-WebUI Stable Diffusion Launcher</h1>
            <p>Advanced multi-environment management with centralized assets and zero conflicts</p>
        </div>
        """)

        # System status dashboard
        with gr.Row():
            with gr.Column(scale=2):
                gr.Markdown("### 🌐 Global Configuration")

                with gr.Row():
                    workspace_dir = gr.Textbox(
                        label="Workspace Directory",
                        value=str(manager.workspace_dir),
                        interactive=False
                    )
                    models_dir = gr.Textbox(
                        label="Models Directory",
                        value=str(manager.models_dir),
                        interactive=False
                    )

                hardware_profile = gr.Dropdown(
                    label="Hardware Profile",
                    choices=[(profile['name'], key) for key, profile in manager.config['hardware_profiles'].items()],
                    value="medium_vram",
                    interactive=True
                )

            with gr.Column(scale=1):
                gr.Markdown("### 📊 System Status")

                status_summary = process_tracker.get_status_summary()

                with gr.Row():
                    total_tools_display = gr.HTML(
                        f'<div class="metric-card"><div class="metric-value">{status_summary["total"]}</div><div class="metric-label">Tools Available</div></div>'
                    )
                    running_count_display = gr.HTML(
                        f'<div class="metric-card"><div class="metric-value">{status_summary["running"]}</div><div class="metric-label">Currently Running</div></div>'
                    )

        # Tool management section
        gr.Markdown("## 🛠️ WebUI Tool Management")

        # Create tabs for each tool category
        with gr.Tabs():

            # Stable Diffusion tools tab
            with gr.TabItem("🎨 Stable Diffusion Tools"):
                sd_tools = {k: v for k, v in manager.config['tools'].items()
                           if v.get('category') == 'stable_diffusion'}

                tool_components = {}

                for tool_id, tool_config in sd_tools.items():
                    with gr.Group():
                        # Tool status display
                        tool_status_html = gr.HTML(
                            process_tracker.get_tool_status_html(tool_id),
                            elem_id=f"tool-status-{tool_id}"
                        )

                        with gr.Row():
                            with gr.Column(scale=3):
                                # Configuration options
                                custom_args = gr.Textbox(
                                    label="Custom Arguments",
                                    value=" ".join(tool_config.get('default_args', [])),
                                    placeholder="Additional launch arguments...",
                                    interactive=True
                                )

                            with gr.Column(scale=1):
                                # Control buttons
                                launch_btn = gr.Button(
                                    f"🚀 Launch {tool_config['name']}",
                                    variant="primary",
                                    elem_id=f"launch-{tool_id}"
                                )

                                stop_btn = gr.Button(
                                    "🛑 Stop",
                                    variant="stop",
                                    visible=False,
                                    elem_id=f"stop-{tool_id}"
                                )

                                # Web UI link
                                webui_link = gr.HTML(
                                    visible=False,
                                    elem_id=f"link-{tool_id}"
                                )

                        # Collapsible log viewer
                        with gr.Accordion(f"📋 Live Log - {tool_config['name']}", open=False):
                            log_output = gr.Textbox(
                                lines=15,
                                max_lines=20,
                                interactive=False,
                                show_copy_button=True,
                                elem_classes=["log-viewer"],
                                elem_id=f"log-{tool_id}"
                            )

                            with gr.Row():
                                refresh_log_btn = gr.Button("🔄 Refresh", size="sm")
                                clear_log_btn = gr.Button("🗑️ Clear", size="sm")

                        # Store components
                        tool_components[tool_id] = {
                            'status_html': tool_status_html,
                            'custom_args': custom_args,
                            'launch_btn': launch_btn,
                            'stop_btn': stop_btn,
                            'webui_link': webui_link,
                            'log_output': log_output,
                            'refresh_log_btn': refresh_log_btn,
                            'clear_log_btn': clear_log_btn
                        }

            # Face tools tab
            with gr.TabItem("👤 Face Processing Tools"):
                face_tools = {k: v for k, v in manager.config['tools'].items()
                             if v.get('category') == 'face_tools'}

                if not face_tools:
                    gr.Markdown("No face processing tools configured.")
                else:
                    for tool_id, tool_config in face_tools.items():
                        # Similar structure for face tools
                        with gr.Group():
                            gr.Markdown(f"### {tool_config['icon']} {tool_config['name']}")
                            gr.Markdown(tool_config['description'])
                            # Add face tool specific controls here

        # Batch operations section
        gr.Markdown("## ⚡ Batch Operations")

        with gr.Row():
            setup_all_btn = gr.Button(
                "🔧 Setup All Environments",
                variant="primary",
                size="lg"
            )

            stop_all_btn = gr.Button(
                "⏹️ Stop All Tools",
                variant="stop",
                size="lg"
            )

            refresh_status_btn = gr.Button(
                "🔄 Refresh Status",
                variant="secondary",
                size="lg"
            )

        # Status and logs area
        with gr.Row():
            status_output = gr.HTML(elem_id="global-status")

        # Event handlers
        def launch_tool_handler(tool_id):
            """Create launch handler for specific tool"""
            def handler(custom_args_str, hardware_prof, proc_states):
                try:
                    # Parse custom arguments
                    custom_args = custom_args_str.split() if custom_args_str.strip() else []

                    # Launch the tool
                    success = manager.launch_tool(
                        tool_id,
                        custom_args=custom_args,
                        hardware_profile=hardware_prof
                    )

                    if success:
                        proc_states[tool_id] = 'starting'
                        tool_config = manager.config['tools'][tool_id]

                        return {
                            process_states: proc_states,
                            tool_components[tool_id]['launch_btn']: gr.update(visible=False),
                            tool_components[tool_id]['stop_btn']: gr.update(visible=True),
                            tool_components[tool_id]['webui_link']: gr.update(
                                value=f'<a href="http://localhost:{tool_config["port"]}" target="_blank" style="color: var(--primary-color); text-decoration: none;">🌐 Open {tool_config["name"]} WebUI</a>',
                                visible=True
                            ),
                            status_output: gr.update(
                                value=f'<div style="color: var(--success-color);">✅ {tool_config["name"]} launched successfully</div>'
                            )
                        }
                    else:
                        return {
                            process_states: proc_states,
                            status_output: gr.update(
                                value=f'<div style="color: var(--error-color);">❌ Failed to launch {tool_config["name"]}</div>'
                            )
                        }

                except Exception as e:
                    return {
                        process_states: proc_states,
                        status_output: gr.update(
                            value=f'<div style="color: var(--error-color);">❌ Error launching {tool_id}: {str(e)}</div>'
                        )
                    }

            return handler

        def stop_tool_handler(tool_id):
            """Create stop handler for specific tool"""
            def handler(proc_states):
                try:
                    success = manager.stop_tool(tool_id)
                    tool_config = manager.config['tools'][tool_id]

                    if success:
                        proc_states[tool_id] = 'stopped'

                        return {
                            process_states: proc_states,
                            tool_components[tool_id]['launch_btn']: gr.update(visible=True),
                            tool_components[tool_id]['stop_btn']: gr.update(visible=False),
                            tool_components[tool_id]['webui_link']: gr.update(visible=False),
                            status_output: gr.update(
                                value=f'<div style="color: var(--warning-color);">🛑 {tool_config["name"]} stopped</div>'
                            )
                        }
                    else:
                        return {
                            process_states: proc_states,
                            status_output: gr.update(
                                value=f'<div style="color: var(--error-color);">❌ Failed to stop {tool_config["name"]}</div>'
                            )
                        }

                except Exception as e:
                    return {
                        process_states: proc_states,
                        status_output: gr.update(
                            value=f'<div style="color: var(--error-color);">❌ Error stopping {tool_id}: {str(e)}</div>'
                        )
                    }

            return handler

        def refresh_logs_handler(tool_id):
            """Create log refresh handler"""
            def handler():
                logs = process_tracker.update_logs(tool_id)
                return gr.update(value=logs)

            return handler

        # Wire up event handlers for SD tools
        for tool_id in tool_components.keys():
            components = tool_components[tool_id]

            # Launch button
            components['launch_btn'].click(
                fn=launch_tool_handler(tool_id),
                inputs=[
                    components['custom_args'],
                    hardware_profile,
                    process_states
                ],
                outputs=[
                    process_states,
                    components['launch_btn'],
                    components['stop_btn'],
                    components['webui_link'],
                    status_output
                ]
            )

            # Stop button
            components['stop_btn'].click(
                fn=stop_tool_handler(tool_id),
                inputs=[process_states],
                outputs=[
                    process_states,
                    components['launch_btn'],
                    components['stop_btn'],
                    components['webui_link'],
                    status_output
                ]
            )

            # Refresh logs
            components['refresh_log_btn'].click(
                fn=refresh_logs_handler(tool_id),
                outputs=[components['log_output']]
            )

            # Clear logs
            components['clear_log_btn'].click(
                fn=lambda: gr.update(value=""),
                outputs=[components['log_output']]
            )

        # Batch operation handlers
        def setup_all_handler():
            """Setup all environments"""
            try:
                results = manager.setup_all_tools()

                success_count = sum(1 for success in results.values() if success)
                total_count = len(results)

                status_html = f"""
                <div style="padding: 1rem; background: var(--bg-secondary); border-radius: 8px; margin-top: 1rem;">
                    <h4 style="color: var(--primary-color);">Setup Results: {success_count}/{total_count} successful</h4>
                    <ul style="margin: 0.5rem 0;">
                """

                for tool_id, success in results.items():
                    tool_name = manager.config['tools'][tool_id]['name']
                    status = "✅" if success else "❌"
                    color = "var(--success-color)" if success else "var(--error-color)"
                    status_html += f'<li style="color: {color};">{status} {tool_name}</li>'

                status_html += "</ul></div>"

                return gr.update(value=status_html)

            except Exception as e:
                return gr.update(
                    value=f'<div style="color: var(--error-color);">❌ Setup failed: {str(e)}</div>'
                )

        def stop_all_handler(proc_states):
            """Stop all running tools"""
            try:
                stopped_count = 0

                for tool_id in manager.config['tools'].keys():
                    status = manager.get_process_status(tool_id)
                    if status.get('status') in ['starting', 'running']:
                        if manager.stop_tool(tool_id):
                            proc_states[tool_id] = 'stopped'
                            stopped_count += 1

                return {
                    process_states: proc_states,
                    status_output: gr.update(
                        value=f'<div style="color: var(--warning-color);">🛑 Stopped {stopped_count} tools</div>'
                    )
                }

            except Exception as e:
                return {
                    process_states: proc_states,
                    status_output: gr.update(
                        value=f'<div style="color: var(--error-color);">❌ Error stopping tools: {str(e)}</div>'
                    )
                }

        def refresh_status_handler():
            """Refresh system status"""
            try:
                status = manager.get_system_status()

                status_html = f"""
                <div style="padding: 1rem; background: var(--bg-secondary); border-radius: 8px; margin-top: 1rem;">
                    <h4 style="color: var(--primary-color);">📊 System Status Updated</h4>
                    <div style="display: grid; grid-template-columns: repeat(auto-fit, minmax(200px, 1fr)); gap: 1rem; margin-top: 1rem;">
                        <div style="text-align: center;">
                            <div style="font-size: 1.5rem; color: var(--success-color);">{status['running_tools']}</div>
                            <div style="color: var(--text-secondary);">Running Tools</div>
                        </div>
                        <div style="text-align: center;">
                            <div style="font-size: 1.5rem; color: var(--primary-color);">{status['total_models']}</div>
                            <div style="color: var(--text-secondary);">Total Models</div>
                        </div>
                        <div style="text-align: center;">
                            <div style="font-size: 1.5rem; color: var(--warning-color);">{status['total_size_gb']:.1f} GB</div>
                            <div style="color: var(--text-secondary);">Storage Used</div>
                        </div>
                    </div>
                </div>
                """

                return gr.update(value=status_html)

            except Exception as e:
                return gr.update(
                    value=f'<div style="color: var(--error-color);">❌ Failed to refresh status: {str(e)}</div>'
                )

        # Wire up batch operations
        setup_all_btn.click(
            fn=setup_all_handler,
            outputs=[status_output]
        )

        stop_all_btn.click(
            fn=stop_all_handler,
            inputs=[process_states],
            outputs=[process_states, status_output]
        )

        refresh_status_btn.click(
            fn=refresh_status_handler,
            outputs=[status_output]
        )

    return demo

# Create the interface
demo = create_advanced_interface()
print("✅ Advanced Gradio interface created")


# In[ ]:
# ## 🚀 Launch the Advanced Interface
#
# Start the complete unified launcher with all features


# In[ ]:
# Launch configuration
LAUNCH_CONFIG = {
    "server_name": "0.0.0.0",    # Allow external access
    "server_port": 7860,          # Default port
    "share": True,                # Create public Gradio link
    "show_error": True,           # Show detailed errors
    "debug": False,               # Set to True for development
    "quiet": False,               # Set to True to reduce output
    "show_tips": True,            # Show Gradio tips
    "height": 800,                # Interface height
    "width": "100%",              # Interface width
    "favicon_path": None,         # Custom favicon
    "ssl_keyfile": None,          # SSL key file (for HTTPS)
    "ssl_certfile": None          # SSL cert file (for HTTPS)
}

# System information
def print_launch_info():
    """Print system information before launch"""
    print("\n" + "="*60)
    print("🚀 UNIFIED WEBUI LAUNCHER STARTING")
    print("="*60)
    print(f"📁 Workspace: {manager.workspace_dir}")
    print(f"🎨 Models: {manager.models_dir}")
    print(f"🛠️ Tools: {len(manager.config['tools'])}")
    print(f"🌐 Server: {LAUNCH_CONFIG['server_name']}:{LAUNCH_CONFIG['server_port']}")
    print(f"📡 Share: {'Yes' if LAUNCH_CONFIG['share'] else 'No'}")

    # System resources
    try:
        import psutil
        print(f"💾 RAM: {psutil.virtual_memory().available / (1024**3):.1f} GB available")
        print(f"💿 Disk: {psutil.disk_usage(str(manager.workspace_dir)).free / (1024**3):.1f} GB available")
    except:
        pass

    print("\n🎯 Features:")
    print("   ✅ Multi-environment isolation (zero conflicts)")
    print("   ✅ Centralized asset management (storage optimization)")
    print("   ✅ Real-time process monitoring")
    print("   ✅ Advanced Gradio interface")
    print("   ✅ Batch operations support")
    print("   ✅ Hardware profile optimization")

    print("\n📋 Next Steps:")
    print("   1. Use 'Setup All Environments' to install WebUIs")
    print("   2. Place your models in the centralized directory")
    print("   3. Launch any WebUI with optimal settings")
    print("   4. Monitor processes and logs in real-time")
    print("="*60)
    print()

# Print launch information
print_launch_info()

# Launch the interface
if __name__ == "__main__":
    try:
        # Launch with configuration
        demo.queue(
            concurrency_count=10,    # Handle multiple requests
            max_size=20             # Queue size limit
        ).launch(**LAUNCH_CONFIG)

    except KeyboardInterrupt:
        print("\n🛑 Launcher stopped by user")
    except Exception as e:
        print(f"\n❌ Error launching interface: {e}")
        raise
else:
    # In Jupyter notebook, launch without blocking
    print("🚀 Starting launcher in notebook mode...")
    demo.queue(concurrency_count=5).launch(
        server_name="0.0.0.0",
        server_port=7860,
        share=True,
        show_error=True,
        debug=False,
        quiet=True,
        height=800,
        inbrowser=False  # Don't auto-open browser in notebook
    )


# In[ ]:
# ## 🔧 Advanced Management Functions
#
# Additional utility functions for power users


# In[ ]:
# Advanced management functions

def quick_setup_demonstration():
    """Demonstrate the complete setup process"""
    print("🎯 QUICK SETUP DEMONSTRATION")
    print("=" * 40)

    # Show environment strategy
    print("\n📋 Environment Isolation Strategy:")
    groups = manager.config.get('environment_groups', {})
    for group_id, group_info in groups.items():
        tools = ', '.join(group_info.get('tools', []))
        python_ver = group_info.get('python_version', 'N/A')
        print(f"   {group_info['name']} (Python {python_ver}): {tools}")

    # Show centralization methods
    print("\n🎨 Asset Centralization Methods:")
    for tool_id, tool_config in manager.config['tools'].items():
        method = tool_config.get('centralization_method', 'none')
        print(f"   {tool_config['name']}: {method}")

    # Show storage savings
    print("\n💾 Storage Optimization:")
    total_tools = len([t for t in manager.config['tools'].values()
                      if t.get('centralization_method') != 'none'])
    estimated_savings = total_tools * 20  # Assume 20GB per tool
    print(f"   Estimated savings: ~{estimated_savings}GB (80% reduction)")
    print(f"   Centralized storage: {manager.models_dir}")

def system_diagnostics():
    """Run system diagnostics"""
    print("🔍 SYSTEM DIAGNOSTICS")
    print("=" * 30)

    # Check Python versions
    print("\n🐍 Python Versions:")
    for version in ['3.10', '3.11']:
        try:
            result = subprocess.run([f'python{version}', '--version'],
                                  capture_output=True, text=True, timeout=5)
            if result.returncode == 0:
                print(f"   ✅ Python {version}: {result.stdout.strip()}")
            else:
                print(f"   ❌ Python {version}: Not found")
        except:
            print(f"   ❌ Python {version}: Not found")

    # Check disk space
    print("\n💿 Disk Space:")
    try:
        workspace_usage = psutil.disk_usage(str(manager.workspace_dir))
        models_usage = psutil.disk_usage(str(manager.models_dir))

        print(f"   Workspace: {workspace_usage.free / (1024**3):.1f} GB free")
        print(f"   Models: {models_usage.free / (1024**3):.1f} GB free")
    except Exception as e:
        print(f"   ❌ Error checking disk space: {e}")

    # Check tool installation status
    print("\n🛠️ Tool Installation Status:")
    for tool_id, tool_config in manager.config['tools'].items():
        tool_dir = manager.workspace_dir / tool_config['dir']
        venv_dir = tool_dir / tool_config['venv_name']

        repo_status = "✅" if tool_dir.exists() else "❌"
        env_status = "✅" if venv_dir.exists() else "❌"

        print(f"   {tool_config['name']}: Repo {repo_status} | Env {env_status}")

def show_launch_examples():
    """Show practical launch command examples"""
    print("🚀 LAUNCH COMMAND EXAMPLES")
    print("=" * 35)

    print("\n💻 Command Line Usage:")
    print("   ./manage_webuis.sh --setup-all")
    print("   ./manage_webuis.sh --launch automatic1111 --profile high_vram")
    print("   ./manage_webuis.sh --launch sdnext --args '--backend diffusers'")
    print("   ./manage_webuis.sh --stop automatic1111")
    print("   ./manage_webuis.sh --status")

    print("\n🖥️ Direct Python Usage:")
    for tool_id, tool_config in list(manager.config['tools'].items())[:3]:
        cmd = manager.get_launch_command(tool_id, hardware_profile='medium_vram')
        print(f"\n   # {tool_config['name']}")
        print(f"   {' '.join(cmd)}")

# Interactive widgets for notebook users
def create_quick_controls():
    """Create quick control widgets"""

    # Tool selection
    tool_dropdown = widgets.Dropdown(
        options=[(config['name'], tool_id) for tool_id, config in manager.config['tools'].items()],
        description='WebUI:',
        style={'description_width': 'initial'}
    )

    # Hardware profile
    profile_dropdown = widgets.Dropdown(
        options=[(profile['name'], key) for key, profile in manager.config['hardware_profiles'].items()],
        value='medium_vram',
        description='Profile:',
        style={'description_width': 'initial'}
    )

    # Action buttons
    setup_button = widgets.Button(description="🔧 Setup", button_style='info')
    launch_button = widgets.Button(description="🚀 Launch", button_style='success')
    stop_button = widgets.Button(description="🛑 Stop", button_style='danger')

    # Output area
    output = widgets.Output()

    def on_setup_click(b):
        with output:
            clear_output()
            tool_id = tool_dropdown.value
            print(f"Setting up {manager.config['tools'][tool_id]['name']}...")
            success = manager.setup_tool(tool_id)
            if success:
                print("✅ Setup completed successfully!")
            else:
                print("❌ Setup failed. Check logs for details.")

    def on_launch_click(b):
        with output:
            clear_output()
            tool_id = tool_dropdown.value
            profile = profile_dropdown.value
            tool_name = manager.config['tools'][tool_id]['name']
            print(f"Launching {tool_name} with {profile} profile...")
            success = manager.launch_tool(tool_id, hardware_profile=profile)
            if success:
                port = manager.config['tools'][tool_id]['port']
                print(f"✅ {tool_name} launched successfully!")
                print(f"🌐 Access at: http://localhost:{port}")
            else:
                print("❌ Launch failed. Check logs for details.")

    def on_stop_click(b):
        with output:
            clear_output()
            tool_id = tool_dropdown.value
            tool_name = manager.config['tools'][tool_id]['name']
            print(f"Stopping {tool_name}...")
            success = manager.stop_tool(tool_id)
            if success:
                print(f"✅ {tool_name} stopped successfully!")
            else:
                print("❌ Stop failed or tool was not running.")

    # Wire up events
    setup_button.on_click(on_setup_click)
    launch_button.on_click(on_launch_click)
    stop_button.on_click(on_stop_click)

    # Layout
    controls = widgets.VBox([
        widgets.HTML("<h3>🎛️ Quick Controls</h3>"),
        widgets.HBox([tool_dropdown, profile_dropdown]),
        widgets.HBox([setup_button, launch_button, stop_button]),
        output
    ])

    return controls

# Run diagnostics and show examples
quick_setup_demonstration()
print("\n")
system_diagnostics()
print("\n")
show_launch_examples()

# Create quick controls
quick_controls = create_quick_controls()
display(quick_controls)

print("\n✅ Advanced management functions loaded")
print("📖 Use the functions above for detailed system information")
print("🎛️ Use the quick controls widget for simple operations")
